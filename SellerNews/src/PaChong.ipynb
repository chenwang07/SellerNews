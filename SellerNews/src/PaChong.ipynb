{
 "cells": [
  {
   "cell_type": "code",
   "execution_count": 1,
   "id": "initial_id",
   "metadata": {
    "collapsed": true,
    "ExecuteTime": {
     "end_time": "2024-04-28T13:00:43.734614500Z",
     "start_time": "2024-04-28T13:00:43.668451Z"
    }
   },
   "outputs": [],
   "source": [
    "import requests"
   ]
  },
  {
   "cell_type": "code",
   "execution_count": 2,
   "outputs": [],
   "source": [
    "url = \"https://api.sellersprite.com/v1/market/research\"\n",
    "headers= {\"secret-key\": \"8957c4cd9rdc4a0eaa3c257e68bu767\",\n",
    "          \"Content-Type\": \"application/json;charset=utf-8\"}\n",
    "\n",
    "data = {\"marketplace\":\"US\",\n",
    "        \"departmentKeyword\": \"Sports & Outdoors:Accessories:Sports Water Bottles\"\n",
    "        }\n"
   ],
   "metadata": {
    "collapsed": false,
    "ExecuteTime": {
     "end_time": "2024-04-28T13:26:55.773118100Z",
     "start_time": "2024-04-28T13:26:55.764551900Z"
    }
   },
   "id": "efa3b12a1490acd7"
  },
  {
   "cell_type": "code",
   "execution_count": 3,
   "outputs": [
    {
     "name": "stdout",
     "output_type": "stream",
     "text": [
      "{\"code\":\"ERROR_UNAUTHORIZED\",\"message\":\"未授权\"}\n"
     ]
    }
   ],
   "source": [
    "response = requests.post(url,headers=headers,json=data)\n",
    "if response.status_code == 200:\n",
    "    print(response.text) "
   ],
   "metadata": {
    "collapsed": false,
    "ExecuteTime": {
     "end_time": "2024-04-28T13:26:58.962879400Z",
     "start_time": "2024-04-28T13:26:58.375831900Z"
    }
   },
   "id": "d243041f116bcafb"
  },
  {
   "cell_type": "markdown",
   "source": [],
   "metadata": {
    "collapsed": false
   },
   "id": "83bc857669eb84d7"
  }
 ],
 "metadata": {
  "kernelspec": {
   "display_name": "Python 3",
   "language": "python",
   "name": "python3"
  },
  "language_info": {
   "codemirror_mode": {
    "name": "ipython",
    "version": 2
   },
   "file_extension": ".py",
   "mimetype": "text/x-python",
   "name": "python",
   "nbconvert_exporter": "python",
   "pygments_lexer": "ipython2",
   "version": "2.7.6"
  }
 },
 "nbformat": 4,
 "nbformat_minor": 5
}
